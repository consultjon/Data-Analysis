{
 "cells": [
  {
   "cell_type": "code",
   "execution_count": 9,
   "metadata": {
    "collapsed": false
   },
   "outputs": [
    {
     "name": "stdout",
     "output_type": "stream",
     "text": [
      "According to builtin timeit function\n",
      "--------------------------------------\n",
      "Mine:  6.5687351025189855e-06\n",
      "Google's:  9.032010666487622e-06\n",
      "\n",
      "According to iPython's %timeit feature\n",
      "--------------------------------------\n",
      "My Solution: \n",
      "1000000 loops, best of 3: 1.5 µs per loop\n",
      "Google Solution: \n",
      "100000 loops, best of 3: 2.44 µs per loop\n"
     ]
    }
   ],
   "source": [
    "# Comparison of solutions to list2.py\n",
    "# See https://developers.google.com/edu/python/exercises/basic\n",
    "import timeit\n",
    "\n",
    "# My Solution\n",
    "def linear_merge(list1, list2):\n",
    "  j = 0\n",
    "  result = []\n",
    "  for l in list1:\n",
    "    # loop through list 2 as long as index is less than size\n",
    "    while j < len(list2):\n",
    "      # get elements in 2 that are less than element in list 1; forward pointer\n",
    "      if l > list2[j]:\n",
    "        result.append(list2[j])\n",
    "        j = j + 1\n",
    "      # exit while loop if find element not less than; hold pointer at element\n",
    "      else:\n",
    "        break\n",
    "    # add element from list 1 to results and move on to next\n",
    "    result.append(l)\n",
    "  # get remaining elements from list 2\n",
    "  result.extend(list2[j:])\n",
    "  return result\n",
    "\n",
    "# Google Solution\n",
    "def linear_merge_s(list1, list2):\n",
    "  # +++your code here+++\n",
    "  # LAB(begin solution)\n",
    "  result = []\n",
    "  # Look at the two lists so long as both are non-empty.\n",
    "  # Take whichever element [0] is smaller.\n",
    "  while len(list1) and len(list2):\n",
    "    if list1[0] < list2[0]:\n",
    "      result.append(list1.pop(0))\n",
    "    else:\n",
    "      result.append(list2.pop(0))\n",
    "\n",
    "  # Now tack on what's left\n",
    "  result.extend(list1)\n",
    "  result.extend(list2)\n",
    "  return result\n",
    "\n",
    "print(\"According to builtin timeit function\")\n",
    "print(\"--------------------------------------\")\n",
    "print(\"Mine: \",timeit.timeit(\"linear_merge(['aa', 'xx'], ['bb', 'cc', 'zz'])\", number=2, setup=\"from __main__ import linear_merge\"))\n",
    "print(\"Google's: \",timeit.timeit(\"linear_merge_s(['aa', 'xx'], ['bb', 'cc', 'zz'])\", number=2, setup=\"from __main__ import linear_merge_s\"))\n",
    "print(\"\")\n",
    "print(\"According to iPython's %timeit feature\")\n",
    "print(\"--------------------------------------\")\n",
    "print(\"My Solution: \")\n",
    "%timeit linear_merge(['aa', 'xx'], ['bb', 'cc', 'zz'])\n",
    "print(\"Google Solution: \")\n",
    "%timeit linear_merge_s(['aa', 'xx'], ['bb', 'cc', 'zz'])"
   ]
  },
  {
   "cell_type": "code",
   "execution_count": null,
   "metadata": {
    "collapsed": true
   },
   "outputs": [],
   "source": []
  }
 ],
 "metadata": {
  "kernelspec": {
   "display_name": "Python 3",
   "language": "python",
   "name": "python3"
  },
  "language_info": {
   "codemirror_mode": {
    "name": "ipython",
    "version": 3
   },
   "file_extension": ".py",
   "mimetype": "text/x-python",
   "name": "python",
   "nbconvert_exporter": "python",
   "pygments_lexer": "ipython3",
   "version": "3.6.0"
  }
 },
 "nbformat": 4,
 "nbformat_minor": 2
}
