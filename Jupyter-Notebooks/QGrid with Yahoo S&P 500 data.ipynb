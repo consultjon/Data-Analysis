{
 "cells": [
  {
   "cell_type": "code",
   "execution_count": 1,
   "metadata": {
    "collapsed": true
   },
   "outputs": [],
   "source": [
    "import qgrid\n",
    "import pandas as pd\n",
    "import pandas_datareader\n",
    "pd.set_option('display.max_rows', 8) # Prevents the grid from being too large\n",
    "from pandas_datareader.data import get_data_yahoo\n",
    "spy = get_data_yahoo(symbols='SPY', start=pd.Timestamp('2011-01-01'),\n",
    "                     end=pd.Timestamp('2014-01-01'), adjust_price=True)\n",
    "spy\n",
    "from IPython.display import display\n",
    "grid = qgrid.QGridWidget(df=spy)\n",
    "display(grid)"
   ]
  }
 ],
 "metadata": {
  "kernelspec": {
   "display_name": "Python 3",
   "language": "python",
   "name": "python3"
  },
  "language_info": {
   "codemirror_mode": {
    "name": "ipython",
    "version": 3
   },
   "file_extension": ".py",
   "mimetype": "text/x-python",
   "name": "python",
   "nbconvert_exporter": "python",
   "pygments_lexer": "ipython3",
   "version": "3.6.0"
  },
  "widgets": {
   "state": {
    "872a36892c5b456984c2a7a37efa574e": {
     "views": [
      {
       "cell_index": 0
      }
     ]
    }
   },
   "version": "1.2.0"
  }
 },
 "nbformat": 4,
 "nbformat_minor": 2
}
